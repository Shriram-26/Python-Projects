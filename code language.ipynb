{
 "cells": [
  {
   "cell_type": "code",
   "execution_count": 1,
   "id": "ea0020e5-ad8c-4b45-9a0b-4cb4f7eb4b19",
   "metadata": {},
   "outputs": [
    {
     "name": "stdout",
     "output_type": "stream",
     "text": [
      "Enter messagewhat\n",
      "1 for Coding or 0 for Decoding1\n",
      "True\n",
      "dsfhatwjkr\n"
     ]
    }
   ],
   "source": [
    "st = input(\"Enter message\")\n",
    "words = st.split(\" \")\n",
    "coding = input(\"1 for Coding or 0 for Decoding\")\n",
    "coding = True if (coding==\"1\") else False\n",
    "print(coding)\n",
    "if(coding):\n",
    "  nwords = []\n",
    "  for word in words:\n",
    "    if(len(word)>=3):\n",
    "      r1 = \"dsf\"\n",
    "      r2 = \"jkr\"\n",
    "      stnew = r1+ word[1:] + word[0] + r2\n",
    "      nwords.append(stnew)\n",
    "    else:\n",
    "      nwords.append(word[::-1])\n",
    "  print(\" \".join(nwords))\n",
    "\n",
    "else:\n",
    "  nwords = []\n",
    "  for word in words:\n",
    "    if(len(word)>=3): \n",
    "      stnew = word[3:-3]\n",
    "      stnew = stnew[-1] + stnew[:-1]\n",
    "      nwords.append(stnew)\n",
    "    else:\n",
    "      nwords.append(word[::-1])\n",
    "  print(\" \".join(nwords))\n",
    "  \n",
    "  "
   ]
  },
  {
   "cell_type": "code",
   "execution_count": null,
   "id": "6e57650c-fc5c-411f-8e44-e34e0125773b",
   "metadata": {},
   "outputs": [],
   "source": []
  }
 ],
 "metadata": {
  "kernelspec": {
   "display_name": "Python 3 (ipykernel)",
   "language": "python",
   "name": "python3"
  },
  "language_info": {
   "codemirror_mode": {
    "name": "ipython",
    "version": 3
   },
   "file_extension": ".py",
   "mimetype": "text/x-python",
   "name": "python",
   "nbconvert_exporter": "python",
   "pygments_lexer": "ipython3",
   "version": "3.9.7"
  }
 },
 "nbformat": 4,
 "nbformat_minor": 5
}
