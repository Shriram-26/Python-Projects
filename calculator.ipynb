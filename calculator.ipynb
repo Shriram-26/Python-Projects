{
 "cells": [
  {
   "cell_type": "code",
   "execution_count": 1,
   "id": "3b52a826-be3a-4ae6-a54b-45fed3efaf92",
   "metadata": {},
   "outputs": [
    {
     "name": "stdout",
     "output_type": "stream",
     "text": [
      "The value of 55 + 35 is:  90\n",
      "The value of 55 + 35 is:  20\n",
      "The value of 55 + 35 is:  1925\n",
      "The value of 55 + 35 is:  1.5714285714285714\n"
     ]
    }
   ],
   "source": [
    "a = 55\n",
    "b = 35\n",
    "\n",
    "print(\"The value of\", a, \"+\", b, \"is: \", a+b)\n",
    "print(\"The value of\", a, \"+\", b, \"is: \", a-b)\n",
    "print(\"The value of\", a, \"+\", b, \"is: \", a*b)\n",
    "print(\"The value of\", a, \"+\", b, \"is: \", a/b)"
   ]
  },
  {
   "cell_type": "code",
   "execution_count": null,
   "id": "83898b1d-1fab-4a73-8732-885ad082196b",
   "metadata": {},
   "outputs": [],
   "source": []
  }
 ],
 "metadata": {
  "kernelspec": {
   "display_name": "Python 3 (ipykernel)",
   "language": "python",
   "name": "python3"
  },
  "language_info": {
   "codemirror_mode": {
    "name": "ipython",
    "version": 3
   },
   "file_extension": ".py",
   "mimetype": "text/x-python",
   "name": "python",
   "nbconvert_exporter": "python",
   "pygments_lexer": "ipython3",
   "version": "3.9.7"
  }
 },
 "nbformat": 4,
 "nbformat_minor": 5
}
