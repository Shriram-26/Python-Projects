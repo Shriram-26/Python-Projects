{
 "cells": [
  {
   "cell_type": "code",
   "execution_count": 1,
   "id": "a40149cc-2054-497c-9739-ef637301b562",
   "metadata": {},
   "outputs": [
    {
     "name": "stdout",
     "output_type": "stream",
     "text": [
      "Shoutout to shree, he is an extraordinary student, he will reach to greater heights! well done!!\n",
      "Shoutout to Rohan, Well done!!\n",
      "Shoutout to harshu, Well done!!\n",
      "Shoutout to pranav, Well done!!\n",
      "Shoutout to pratiksha, Well done!!\n"
     ]
    }
   ],
   "source": [
    "import win32com.client\n",
    "\n",
    "speaker = win32com.client.Dispatch(\"SAPI.SpVoice\")\n",
    "\n",
    "list1 = [\"shree\", \"Rohan\", \"harshu\", \"pranav\", \"pratiksha\", ]\n",
    "\n",
    "for i in list1:\n",
    "    if i == \"shree\":\n",
    "        print(f\"Shoutout to {i}, he is an extraordinary student, he will reach to greater heights! well done!!\")\n",
    "        s = f\"Shoutout to {i}, he is an extraordinary student, he will reach to greater heights! well done!!\"\n",
    "        speaker.Speak(s)\n",
    "    else:\n",
    "        print(f\"Shoutout to {i}, Well done!!\")\n",
    "        s = f\"Shoutout to {i}, Well done!!\"\n",
    "        speaker.Speak(s)"
   ]
  },
  {
   "cell_type": "code",
   "execution_count": null,
   "id": "8f1ccadf-b3c0-487d-a29a-50ab52fa9157",
   "metadata": {},
   "outputs": [],
   "source": []
  },
  {
   "cell_type": "code",
   "execution_count": null,
   "id": "780cdf66",
   "metadata": {},
   "outputs": [],
   "source": []
  }
 ],
 "metadata": {
  "kernelspec": {
   "display_name": "Python 3 (ipykernel)",
   "language": "python",
   "name": "python3"
  },
  "language_info": {
   "codemirror_mode": {
    "name": "ipython",
    "version": 3
   },
   "file_extension": ".py",
   "mimetype": "text/x-python",
   "name": "python",
   "nbconvert_exporter": "python",
   "pygments_lexer": "ipython3",
   "version": "3.9.7"
  }
 },
 "nbformat": 4,
 "nbformat_minor": 5
}
