{
 "cells": [
  {
   "cell_type": "code",
   "execution_count": 2,
   "id": "feddaa39-0f10-4180-bb45-09beeab5b7c9",
   "metadata": {},
   "outputs": [
    {
     "name": "stdin",
     "output_type": "stream",
     "text": [
      "0 for Snake, 1 for water and 2 for Gun:\n",
      " 0\n"
     ]
    },
    {
     "name": "stdout",
     "output_type": "stream",
     "text": [
      "You:  0\n",
      "Computer:  1\n",
      "You Won\n"
     ]
    }
   ],
   "source": [
    "import random\n",
    "\n",
    "def check(comp, user):\n",
    "  if comp ==user:\n",
    "    return 0\n",
    "    \n",
    "  if(comp == 0 and user ==1):\n",
    "    return -1\n",
    "    \n",
    "  if(comp == 1 and user ==2):\n",
    "    return -1\n",
    "    \n",
    "  if(comp == 2 and user == 0):\n",
    "    return -1\n",
    "\n",
    "  return 1\n",
    "    \n",
    "  \n",
    "comp = random.randint(0, 2)\n",
    "user = int(input(\"0 for Snake, 1 for water and 2 for Gun:\\n\"))\n",
    "\n",
    "score = check(comp, user)\n",
    "\n",
    "print(\"You: \", user)\n",
    "print(\"Computer: \", comp)\n",
    "\n",
    "if(score == 0):\n",
    "  print(\"Its a draw\")\n",
    "elif (score == -1):\n",
    "  print(\"You Lose\")\n",
    "else:\n",
    "  print(\"You Won\")\n",
    "  "
   ]
  },
  {
   "cell_type": "code",
   "execution_count": null,
   "id": "956800e9-bee6-4054-a6c2-339036318a78",
   "metadata": {},
   "outputs": [],
   "source": []
  }
 ],
 "metadata": {
  "kernelspec": {
   "display_name": "Python 3 (ipykernel)",
   "language": "python",
   "name": "python3"
  },
  "language_info": {
   "codemirror_mode": {
    "name": "ipython",
    "version": 3
   },
   "file_extension": ".py",
   "mimetype": "text/x-python",
   "name": "python",
   "nbconvert_exporter": "python",
   "pygments_lexer": "ipython3",
   "version": "3.9.7"
  }
 },
 "nbformat": 4,
 "nbformat_minor": 5
}
