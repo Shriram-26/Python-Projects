{
 "cells": [
  {
   "cell_type": "code",
   "execution_count": 1,
   "id": "b02dcb7f-cb29-4cd9-b52f-3b8af6550ad5",
   "metadata": {},
   "outputs": [
    {
     "name": "stdout",
     "output_type": "stream",
     "text": [
      "The library has 3 books. The books are\n",
      "Harry Potter1\n",
      "Harry Potter2\n",
      "Harry Potter3\n"
     ]
    }
   ],
   "source": [
    "class Library:\n",
    "  def __init__(self):\n",
    "    self.noBooks = 0\n",
    "    self.books = []\n",
    "    \n",
    "  def addBook(self, book):\n",
    "    self.books.append(book)\n",
    "    self.noBooks = len(self.books)\n",
    "\n",
    "  def showInfo(self):\n",
    "    print(f\"The library has {self.noBooks} books. The books are\")\n",
    "    for book in self.books:\n",
    "      print(book)\n",
    "\n",
    "\n",
    "l1 = Library()\n",
    "l1.addBook(\"Harry Potter1\")\n",
    "l1.addBook(\"Harry Potter2\")\n",
    "l1.addBook(\"Harry Potter3\")\n",
    "l1.showInfo()"
   ]
  },
  {
   "cell_type": "code",
   "execution_count": null,
   "id": "ebee8cd1-360a-449a-b078-85ca1c7f8ac1",
   "metadata": {},
   "outputs": [],
   "source": []
  }
 ],
 "metadata": {
  "kernelspec": {
   "display_name": "Python 3 (ipykernel)",
   "language": "python",
   "name": "python3"
  },
  "language_info": {
   "codemirror_mode": {
    "name": "ipython",
    "version": 3
   },
   "file_extension": ".py",
   "mimetype": "text/x-python",
   "name": "python",
   "nbconvert_exporter": "python",
   "pygments_lexer": "ipython3",
   "version": "3.9.7"
  }
 },
 "nbformat": 4,
 "nbformat_minor": 5
}
