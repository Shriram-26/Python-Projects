{
 "cells": [
  {
   "cell_type": "code",
   "execution_count": 1,
   "id": "c83bbd92-f828-493e-91af-a9b41d8dd637",
   "metadata": {},
   "outputs": [
    {
     "name": "stdout",
     "output_type": "stream",
     "text": [
      "01:01:22\n",
      "01\n",
      "01\n",
      "22\n"
     ]
    }
   ],
   "source": [
    "import time\n",
    "timestamp = time.strftime('%H:%M:%S')\n",
    "print(timestamp)\n",
    "timestamp = time.strftime('%H')\n",
    "print(timestamp)\n",
    "timestamp = time.strftime('%M')\n",
    "print(timestamp)\n",
    "timestamp = time.strftime('%S')\n",
    "print(timestamp)"
   ]
  },
  {
   "cell_type": "code",
   "execution_count": 6,
   "id": "6e35daf1-2e1b-4e58-94ea-aca8bde2a0e9",
   "metadata": {},
   "outputs": [
    {
     "name": "stdout",
     "output_type": "stream",
     "text": [
      "12:55:35\n",
      "12\n",
      "Good Afternoon Sir!\n"
     ]
    }
   ],
   "source": [
    "import time\n",
    "timestamp = time.strftime('%H:%M:%S')\n",
    "print(timestamp)\n",
    "hour = int(time.strftime('%H'))\n",
    "#hour = int(input(\"Enter hour: \"))//user input\n",
    "print(hour)\n",
    "if(hour>=0 and hour<12):\n",
    "    print(\"Good Morning Sir!\")\n",
    "elif(hour>=12 and hour<17):\n",
    "    print(\"Good Afternoon Sir!\")\n",
    "elif(hour>=17 and hour<0):\n",
    "    print(\"Good Night Sir!\")\n",
    "    "
   ]
  },
  {
   "cell_type": "code",
   "execution_count": null,
   "id": "ad29031f-7f60-4aa5-a084-955ea3dc893e",
   "metadata": {},
   "outputs": [],
   "source": []
  },
  {
   "cell_type": "code",
   "execution_count": null,
   "id": "de903a7d-da77-4032-9815-a6c253a42ce0",
   "metadata": {},
   "outputs": [],
   "source": []
  }
 ],
 "metadata": {
  "kernelspec": {
   "display_name": "Python 3 (ipykernel)",
   "language": "python",
   "name": "python3"
  },
  "language_info": {
   "codemirror_mode": {
    "name": "ipython",
    "version": 3
   },
   "file_extension": ".py",
   "mimetype": "text/x-python",
   "name": "python",
   "nbconvert_exporter": "python",
   "pygments_lexer": "ipython3",
   "version": "3.9.7"
  }
 },
 "nbformat": 4,
 "nbformat_minor": 5
}
